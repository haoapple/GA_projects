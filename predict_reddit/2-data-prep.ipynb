{
 "cells": [
  {
   "cell_type": "markdown",
   "metadata": {},
   "source": [
    "# Project: Using Reddit's API for Predicting Comments\n",
    "### Author: Kihoon Sohn"
   ]
  },
  {
   "cell_type": "markdown",
   "metadata": {},
   "source": [
    "### Table of Contents\n",
    "\n",
    "- Notebook 1 - Data Fetching: `json` webscrap and unpack to dataframe\n",
    "- **Notebook 2 - Data Cleansing(current)** : exploratory data analysis and feature engineering\n",
    "- Notebook 3 - Data Modeling: build a predictive model\n",
    "\n",
    "**Disclaimer**: Due to the file size restriction in GitHub, `/dataset/` folder and other large files were ignored by `.gitignore`. Therefore the notebook might not reproducible. "
   ]
  },
  {
   "cell_type": "code",
   "execution_count": 1,
   "metadata": {},
   "outputs": [],
   "source": [
    "# import libraries for the notebook\n",
    "\n",
    "import pandas as pd\n",
    "import numpy as np\n",
    "np.random.seed(538)\n",
    "\n",
    "import seaborn as sns\n",
    "import matplotlib.pyplot as plt\n",
    "\n",
    "import time\n",
    "import datetime"
   ]
  },
  {
   "cell_type": "markdown",
   "metadata": {},
   "source": [
    "### 2a: read datasets and merge"
   ]
  },
  {
   "cell_type": "markdown",
   "metadata": {},
   "source": [
    "##### To have a larger dataset, I fetched data regularly in a week.\n",
    "Dataset Summary\n",
    "- fetched `reddit.com/hot.json` and dropped most of variables,\n",
    "- but `title`, `subreddit`, `num of comments`, `fetched time`, `created utc`\n",
    "- fetched **51,697 unduplicated posts from 5-25-2018 to 6-01-2018**"
   ]
  },
  {
   "cell_type": "code",
   "execution_count": 2,
   "metadata": {},
   "outputs": [
    {
     "name": "stdout",
     "output_type": "stream",
     "text": [
      "(105345, 7)\n",
      "51697\n"
     ]
    }
   ],
   "source": [
    "# let's concat previous fetched data\n",
    "\n",
    "df1 = pd.read_csv('./dataset/1st_5K.csv')\n",
    "df2 = pd.read_csv('./dataset/2nd_5K.csv')\n",
    "df3 = pd.read_csv('./dataset/3rd_5K.csv')\n",
    "df4 = pd.read_csv('./dataset/4th_5K.csv')\n",
    "df5 = pd.read_csv('./dataset/5th_5K.csv')\n",
    "df6 = pd.read_csv('./dataset/6th_5K.csv')\n",
    "\n",
    "# I learned how to embed time in the filename.\n",
    "df7 = pd.read_csv('./dataset/hotposts_crafted_ 30-05-2018 (1321hrs).csv')\n",
    "df8 = pd.read_csv('./dataset/hotposts_crafted_ 30-05-2018 (1422hrs).csv')\n",
    "df9 = pd.read_csv('./dataset/hotposts_crafted_ 30-05-2018 (1847hrs).csv')\n",
    "df10 = pd.read_csv('./dataset/hotposts_crafted_ 30-05-2018 (1931hrs).csv')\n",
    "df11 = pd.read_csv('./dataset/hotposts_crafted_ 30-05-2018 (2259hrs).csv')\n",
    "df12 = pd.read_csv('./dataset/hotposts_crafted_ 31-05-2018 (0038hrs).csv')\n",
    "df13 = pd.read_csv('./dataset/hotposts_crafted_ 31-05-2018 (0647hrs).csv')\n",
    "df14 = pd.read_csv('./dataset/hotposts_crafted_ 31-05-2018 (1224hrs).csv')\n",
    "df15 = pd.read_csv('./dataset/hotposts_crafted_ 31-05-2018 (2052hrs).csv')\n",
    "df16 = pd.read_csv('./dataset/hotposts_crafted_ 01-06-2018 (0851hrs).csv')\n",
    "\n",
    "# concat CSVs \n",
    "df = pd.concat([df1, df2, df3, df4, df5, df6, df7, df8, df9, df10,\n",
    "                df11, df12, df13, df14, df15, df16], ignore_index=True)\n",
    "print(df.shape)\n",
    "\n",
    "# Check how many unique values in the merged dataset.\n",
    "print(df['id'].nunique())"
   ]
  },
  {
   "cell_type": "markdown",
   "metadata": {},
   "source": [
    "### 2b: Clean up dataframe - set time and timedelta, drop cols"
   ]
  },
  {
   "cell_type": "code",
   "execution_count": 3,
   "metadata": {},
   "outputs": [
    {
     "name": "stdout",
     "output_type": "stream",
     "text": [
      "(51697, 6)\n"
     ]
    }
   ],
   "source": [
    "# drop duplicates and unnecessary column\n",
    "# set `keep='last'` to keep the last duplicate.\n",
    "df = df.drop_duplicates(subset='id', keep='last')\n",
    "df.drop(columns='Unnamed: 0', axis=1, inplace=True)\n",
    "print(df.shape)"
   ]
  },
  {
   "cell_type": "code",
   "execution_count": 4,
   "metadata": {},
   "outputs": [],
   "source": [
    "# change data type into readable \"datatime\" format. \n",
    "# datetime64[s] shows date/time data by seconds. \n",
    "\n",
    "df['fetched time'] = df['fetched time'].astype('datetime64[s]')\n",
    "df['created_utc'] = df['created_utc'].astype('datetime64[s]')"
   ]
  },
  {
   "cell_type": "code",
   "execution_count": 5,
   "metadata": {},
   "outputs": [
    {
     "data": {
      "text/html": [
       "<div>\n",
       "<style scoped>\n",
       "    .dataframe tbody tr th:only-of-type {\n",
       "        vertical-align: middle;\n",
       "    }\n",
       "\n",
       "    .dataframe tbody tr th {\n",
       "        vertical-align: top;\n",
       "    }\n",
       "\n",
       "    .dataframe thead th {\n",
       "        text-align: right;\n",
       "    }\n",
       "</style>\n",
       "<table border=\"1\" class=\"dataframe\">\n",
       "  <thead>\n",
       "    <tr style=\"text-align: right;\">\n",
       "      <th></th>\n",
       "      <th>id</th>\n",
       "      <th>title</th>\n",
       "      <th>subreddit</th>\n",
       "      <th>num_comments</th>\n",
       "      <th>created_utc</th>\n",
       "      <th>fetched time</th>\n",
       "      <th>age</th>\n",
       "    </tr>\n",
       "  </thead>\n",
       "  <tbody>\n",
       "    <tr>\n",
       "      <th>225</th>\n",
       "      <td>8m1wov</td>\n",
       "      <td>It happens in anime, it happens in life</td>\n",
       "      <td>combinedgifs</td>\n",
       "      <td>407</td>\n",
       "      <td>2018-05-25 13:52:24</td>\n",
       "      <td>2018-05-25 20:10:12</td>\n",
       "      <td>377.0</td>\n",
       "    </tr>\n",
       "    <tr>\n",
       "      <th>226</th>\n",
       "      <td>8m19ri</td>\n",
       "      <td>Harvey Weinstein arrested on rape charges</td>\n",
       "      <td>television</td>\n",
       "      <td>1497</td>\n",
       "      <td>2018-05-25 12:14:43</td>\n",
       "      <td>2018-05-25 20:10:12</td>\n",
       "      <td>475.0</td>\n",
       "    </tr>\n",
       "    <tr>\n",
       "      <th>227</th>\n",
       "      <td>8m1mba</td>\n",
       "      <td>Spiderman and Tony</td>\n",
       "      <td>marvelstudios</td>\n",
       "      <td>245</td>\n",
       "      <td>2018-05-25 13:10:06</td>\n",
       "      <td>2018-05-25 20:10:12</td>\n",
       "      <td>420.0</td>\n",
       "    </tr>\n",
       "    <tr>\n",
       "      <th>228</th>\n",
       "      <td>8m1cnu</td>\n",
       "      <td>2008 Youtube, was an amazing time to be alive</td>\n",
       "      <td>videos</td>\n",
       "      <td>524</td>\n",
       "      <td>2018-05-25 12:28:02</td>\n",
       "      <td>2018-05-25 20:10:12</td>\n",
       "      <td>462.0</td>\n",
       "    </tr>\n",
       "    <tr>\n",
       "      <th>230</th>\n",
       "      <td>8m173l</td>\n",
       "      <td>TIL Shakespeare coined or popularized many of ...</td>\n",
       "      <td>todayilearned</td>\n",
       "      <td>536</td>\n",
       "      <td>2018-05-25 12:02:23</td>\n",
       "      <td>2018-05-25 20:10:12</td>\n",
       "      <td>487.0</td>\n",
       "    </tr>\n",
       "  </tbody>\n",
       "</table>\n",
       "</div>"
      ],
      "text/plain": [
       "         id                                              title      subreddit  \\\n",
       "225  8m1wov            It happens in anime, it happens in life   combinedgifs   \n",
       "226  8m19ri          Harvey Weinstein arrested on rape charges     television   \n",
       "227  8m1mba                                 Spiderman and Tony  marvelstudios   \n",
       "228  8m1cnu      2008 Youtube, was an amazing time to be alive         videos   \n",
       "230  8m173l  TIL Shakespeare coined or popularized many of ...  todayilearned   \n",
       "\n",
       "     num_comments         created_utc        fetched time    age  \n",
       "225           407 2018-05-25 13:52:24 2018-05-25 20:10:12  377.0  \n",
       "226          1497 2018-05-25 12:14:43 2018-05-25 20:10:12  475.0  \n",
       "227           245 2018-05-25 13:10:06 2018-05-25 20:10:12  420.0  \n",
       "228           524 2018-05-25 12:28:02 2018-05-25 20:10:12  462.0  \n",
       "230           536 2018-05-25 12:02:23 2018-05-25 20:10:12  487.0  "
      ]
     },
     "execution_count": 5,
     "metadata": {},
     "output_type": "execute_result"
    }
   ],
   "source": [
    "# create new column \"age\" by subtracting fetched time - created time.\n",
    "# To make it readable, timedelta64 is needed. [m] gives by minutes-long, [h] by hours. \n",
    "\n",
    "df['age'] = df['fetched time'] - df['created_utc']\n",
    "df['age'] = df['age'].astype('timedelta64[m]')\n",
    "df.head()"
   ]
  },
  {
   "cell_type": "code",
   "execution_count": 6,
   "metadata": {
    "scrolled": true
   },
   "outputs": [
    {
     "data": {
      "text/plain": [
       "count    51697.000000\n",
       "mean       627.707372\n",
       "std        360.907441\n",
       "min          7.000000\n",
       "25%        335.000000\n",
       "50%        573.000000\n",
       "75%        882.000000\n",
       "max       1625.000000\n",
       "Name: age, dtype: float64"
      ]
     },
     "execution_count": 6,
     "metadata": {},
     "output_type": "execute_result"
    }
   ],
   "source": [
    "df.age.describe()"
   ]
  },
  {
   "cell_type": "code",
   "execution_count": 7,
   "metadata": {},
   "outputs": [
    {
     "data": {
      "text/plain": [
       "Index(['id', 'title', 'subreddit', 'num_comments', 'created_utc',\n",
       "       'fetched time', 'age'],\n",
       "      dtype='object')"
      ]
     },
     "execution_count": 7,
     "metadata": {},
     "output_type": "execute_result"
    }
   ],
   "source": [
    "df.columns"
   ]
  },
  {
   "cell_type": "markdown",
   "metadata": {},
   "source": [
    "### 2c: Explore the data \n",
    "##### - Let's check which subreddit has the most number of posts\n"
   ]
  },
  {
   "cell_type": "code",
   "execution_count": 8,
   "metadata": {
    "scrolled": true
   },
   "outputs": [
    {
     "data": {
      "text/html": [
       "<div>\n",
       "<style scoped>\n",
       "    .dataframe tbody tr th:only-of-type {\n",
       "        vertical-align: middle;\n",
       "    }\n",
       "\n",
       "    .dataframe tbody tr th {\n",
       "        vertical-align: top;\n",
       "    }\n",
       "\n",
       "    .dataframe thead th {\n",
       "        text-align: right;\n",
       "    }\n",
       "</style>\n",
       "<table border=\"1\" class=\"dataframe\">\n",
       "  <thead>\n",
       "    <tr style=\"text-align: right;\">\n",
       "      <th></th>\n",
       "      <th>id</th>\n",
       "    </tr>\n",
       "    <tr>\n",
       "      <th>subreddit</th>\n",
       "      <th></th>\n",
       "    </tr>\n",
       "  </thead>\n",
       "  <tbody>\n",
       "    <tr>\n",
       "      <th>aww</th>\n",
       "      <td>1079</td>\n",
       "    </tr>\n",
       "    <tr>\n",
       "      <th>funny</th>\n",
       "      <td>867</td>\n",
       "    </tr>\n",
       "    <tr>\n",
       "      <th>PewdiepieSubmissions</th>\n",
       "      <td>588</td>\n",
       "    </tr>\n",
       "    <tr>\n",
       "      <th>memes</th>\n",
       "      <td>558</td>\n",
       "    </tr>\n",
       "    <tr>\n",
       "      <th>FortNiteBR</th>\n",
       "      <td>546</td>\n",
       "    </tr>\n",
       "  </tbody>\n",
       "</table>\n",
       "</div>"
      ],
      "text/plain": [
       "                        id\n",
       "subreddit                 \n",
       "aww                   1079\n",
       "funny                  867\n",
       "PewdiepieSubmissions   588\n",
       "memes                  558\n",
       "FortNiteBR             546"
      ]
     },
     "execution_count": 8,
     "metadata": {},
     "output_type": "execute_result"
    }
   ],
   "source": [
    "count_id = df.groupby('subreddit').agg({'id': 'count'})\n",
    "top_sub = count_id.sort_values('id', ascending = False).head()\n",
    "top_sub"
   ]
  },
  {
   "cell_type": "code",
   "execution_count": 9,
   "metadata": {},
   "outputs": [
    {
     "data": {
      "image/png": "[encoded data removed]",
      "text/plain": [
       "<Figure size 432x288 with 1 Axes>"
      ]
     },
     "metadata": {},
     "output_type": "display_data"
    }
   ],
   "source": [
    "# plot the top 5 buzzing subreddit by # of posts\n",
    "\n",
    "sns.barplot(x=top_sub['id'], y=top_sub.index) # challenge: annotate values in the plot\n",
    "plt.xlabel(\"number of posts\")\n",
    "plt.title(\"Top 5 active subreddits by # of posts\");"
   ]
  },
  {
   "cell_type": "code",
   "execution_count": 10,
   "metadata": {},
   "outputs": [
    {
     "data": {
      "text/plain": [
       "count    51697.000000\n",
       "mean        69.125597\n",
       "std        341.592320\n",
       "min          0.000000\n",
       "25%          6.000000\n",
       "50%         16.000000\n",
       "75%         43.000000\n",
       "max      28236.000000\n",
       "Name: num_comments, dtype: float64"
      ]
     },
     "execution_count": 10,
     "metadata": {},
     "output_type": "execute_result"
    }
   ],
   "source": [
    "df['num_comments'].describe()"
   ]
  },
  {
   "cell_type": "code",
   "execution_count": 11,
   "metadata": {},
   "outputs": [
    {
     "name": "stdout",
     "output_type": "stream",
     "text": [
      "The median of the num of comments:  16.0\n",
      "The 75th percentile of the num of comments:  43.0\n"
     ]
    }
   ],
   "source": [
    "# the median number and .75 percentile of the number of comments\n",
    "median = np.percentile(df['num_comments'], 50)\n",
    "per_75 = np.percentile(df['num_comments'], 75)\n",
    "print(\"The median of the num of comments: \", median)\n",
    "print(\"The 75th percentile of the num of comments: \", per_75)"
   ]
  },
  {
   "cell_type": "code",
   "execution_count": 25,
   "metadata": {},
   "outputs": [
    {
     "name": "stderr",
     "output_type": "stream",
     "text": [
      "/anaconda3/envs/dsi/lib/python3.6/site-packages/matplotlib/axes/_axes.py:6462: UserWarning: The 'normed' kwarg is deprecated, and has been replaced by the 'density' kwarg.\n",
      "  warnings.warn(\"The 'normed' kwarg is deprecated, and has been \"\n"
     ]
    },
    {
     "data": {
      "image/png": "[encoded data removed]",
      "text/plain": [
       "<Figure size 432x288 with 1 Axes>"
      ]
     },
     "metadata": {},
     "output_type": "display_data"
    }
   ],
   "source": [
    "# plot number of comments distribution\n",
    "\n",
    "sns.distplot(df['num_comments'])\n",
    "plt.title(\"Distribution - Number of comments\");"
   ]
  },
  {
   "cell_type": "markdown",
   "metadata": {},
   "source": [
    "##### - Let's check which subreddits are most popular in the number of comments."
   ]
  },
  {
   "cell_type": "code",
   "execution_count": 15,
   "metadata": {},
   "outputs": [
    {
     "data": {
      "text/html": [
       "<div>\n",
       "<style scoped>\n",
       "    .dataframe tbody tr th:only-of-type {\n",
       "        vertical-align: middle;\n",
       "    }\n",
       "\n",
       "    .dataframe tbody tr th {\n",
       "        vertical-align: top;\n",
       "    }\n",
       "\n",
       "    .dataframe thead th {\n",
       "        text-align: right;\n",
       "    }\n",
       "</style>\n",
       "<table border=\"1\" class=\"dataframe\">\n",
       "  <thead>\n",
       "    <tr style=\"text-align: right;\">\n",
       "      <th></th>\n",
       "      <th>num_comments</th>\n",
       "    </tr>\n",
       "    <tr>\n",
       "      <th>subreddit</th>\n",
       "      <th></th>\n",
       "    </tr>\n",
       "  </thead>\n",
       "  <tbody>\n",
       "    <tr>\n",
       "      <th>AskReddit</th>\n",
       "      <td>1939.209756</td>\n",
       "    </tr>\n",
       "    <tr>\n",
       "      <th>IAmA</th>\n",
       "      <td>1321.461538</td>\n",
       "    </tr>\n",
       "    <tr>\n",
       "      <th>AbuseInterrupted</th>\n",
       "      <td>816.000000</td>\n",
       "    </tr>\n",
       "    <tr>\n",
       "      <th>personalfinance</th>\n",
       "      <td>814.600000</td>\n",
       "    </tr>\n",
       "    <tr>\n",
       "      <th>gadgets</th>\n",
       "      <td>671.888889</td>\n",
       "    </tr>\n",
       "  </tbody>\n",
       "</table>\n",
       "</div>"
      ],
      "text/plain": [
       "                  num_comments\n",
       "subreddit                     \n",
       "AskReddit          1939.209756\n",
       "IAmA               1321.461538\n",
       "AbuseInterrupted    816.000000\n",
       "personalfinance     814.600000\n",
       "gadgets             671.888889"
      ]
     },
     "execution_count": 15,
     "metadata": {},
     "output_type": "execute_result"
    }
   ],
   "source": [
    "# Let's pull top 5 subreddit in the most number of comments\n",
    "sub_mean = df.groupby('subreddit').agg({'num_comments': 'mean'})\n",
    "top_com = sub_mean.sort_values('num_comments', ascending = False).head()\n",
    "top_com"
   ]
  },
  {
   "cell_type": "code",
   "execution_count": 16,
   "metadata": {},
   "outputs": [
    {
     "data": {
      "image/png": "[encoded data removed]",
      "text/plain": [
       "<Figure size 432x288 with 1 Axes>"
      ]
     },
     "metadata": {},
     "output_type": "display_data"
    }
   ],
   "source": [
    "# plot the 5 subreddit\n",
    "\n",
    "sns.barplot(x=top_com['num_comments'], y=top_com.index) # challenge: annotate values in the plot\n",
    "plt.xlabel(\"mean number of comments\")\n",
    "plt.axvline(df['num_comments'].mean(), color='b', linestyle='dashed', linewidth=2)\n",
    "plt.axvline(top_com['num_comments'].mean(), color='r', linestyle='dashed', linewidth=2)\n",
    "plt.title(\"Top 5 active subreddits by mean # of comments\");"
   ]
  },
  {
   "cell_type": "code",
   "execution_count": 17,
   "metadata": {
    "scrolled": true
   },
   "outputs": [
    {
     "name": "stderr",
     "output_type": "stream",
     "text": [
      "/anaconda3/envs/dsi/lib/python3.6/site-packages/matplotlib/axes/_axes.py:6462: UserWarning: The 'normed' kwarg is deprecated, and has been replaced by the 'density' kwarg.\n",
      "  warnings.warn(\"The 'normed' kwarg is deprecated, and has been \"\n"
     ]
    },
    {
     "data": {
      "image/png": "[encoded data removed]",
      "text/plain": [
       "<Figure size 432x288 with 1 Axes>"
      ]
     },
     "metadata": {},
     "output_type": "display_data"
    }
   ],
   "source": [
    "sns.distplot(df['age'], kde= False)\n",
    "plt.axvline(df['age'].mean(), color='k', linestyle='dashed', linewidth=1)\n",
    "plt.xlabel(\"Post age by minutes\")\n",
    "plt.ylabel(\"Frequency\");"
   ]
  },
  {
   "cell_type": "markdown",
   "metadata": {},
   "source": [
    "##### - Check baseline accuracy"
   ]
  },
  {
   "cell_type": "code",
   "execution_count": 13,
   "metadata": {},
   "outputs": [
    {
     "data": {
      "text/plain": [
       "0    38580\n",
       "1    13117\n",
       "Name: comments, dtype: int64"
      ]
     },
     "execution_count": 13,
     "metadata": {},
     "output_type": "execute_result"
    }
   ],
   "source": [
    "# make binary classification for High / Low number of comments\n",
    "# Since # of comments are highly skewed as shown the plot above\n",
    "# let's set the separator as 75th percentile.\n",
    "\n",
    "# High gets 1, Low gets 0\n",
    "df['comments'] = [1 if x >= per_75 else 0 for x in df['num_comments']]\n",
    "df['comments'].value_counts()"
   ]
  },
  {
   "cell_type": "code",
   "execution_count": 14,
   "metadata": {},
   "outputs": [
    {
     "data": {
      "text/plain": [
       "0    0.746272\n",
       "1    0.253728\n",
       "Name: comments, dtype: float64"
      ]
     },
     "execution_count": 14,
     "metadata": {},
     "output_type": "execute_result"
    }
   ],
   "source": [
    "# Let's check the baseline accuracy for the model. \n",
    "df['comments'].value_counts()/len(df['comments'])"
   ]
  },
  {
   "cell_type": "markdown",
   "metadata": {},
   "source": [
    "### 2d: save it to csv"
   ]
  },
  {
   "cell_type": "code",
   "execution_count": 23,
   "metadata": {},
   "outputs": [],
   "source": [
    "current_time = time.strftime(\"%m-%d-%Y\")\n",
    "df.to_csv('master_'+current_time+'(hotposts).csv')"
   ]
  }
 ],
 "metadata": {
  "kernelspec": {
   "display_name": "Python [conda env:dsi]",
   "language": "python",
   "name": "conda-env-dsi-py"
  },
  "language_info": {
   "codemirror_mode": {
    "name": "ipython",
    "version": 3
   },
   "file_extension": ".py",
   "mimetype": "text/x-python",
   "name": "python",
   "nbconvert_exporter": "python",
   "pygments_lexer": "ipython3",
   "version": "3.6.5"
  }
 },
 "nbformat": 4,
 "nbformat_minor": 2
}
